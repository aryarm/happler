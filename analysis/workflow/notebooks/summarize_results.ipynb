{
 "cells": [
  {
   "cell_type": "code",
   "execution_count": null,
   "id": "f4abb314-eeab-406d-ad3b-38584b691ada",
   "metadata": {},
   "outputs": [],
   "source": [
    "suppressMessages(library(ggplot2))\n",
    "suppressMessages(library(data.table))\n",
    "options(repr.plot.width=14, repr.plot.height=7)"
   ]
  },
  {
   "cell_type": "code",
   "execution_count": null,
   "id": "9ca6d579-17ca-4c58-8547-af67456fafde",
   "metadata": {},
   "outputs": [],
   "source": [
    "if (getwd() != \"/projects/ps-gymreklab/amassara/happler/analysis\") {\n",
    "    setwd(\"/projects/ps-gymreklab/amassara/happler/analysis\")\n",
    "}"
   ]
  },
  {
   "cell_type": "code",
   "execution_count": null,
   "id": "36aa8eca-b028-40d2-807c-9bc8aa7896c9",
   "metadata": {},
   "outputs": [],
   "source": [
    "gt = data.table::fread(\"out/19_45401409-46401409/sim/hap/0.05/happler/merged_happler.tsv.gz\", sep=\"\\t\", header=T, stringsAsFactors = FALSE, check.names=TRUE, data.table=FALSE)\n",
    "finemap_results = readRDS(\"out/19_45401409-46401409/sim/hap/0.05/exclude/happler/finemap.rds\")\n",
    "susie_results = readRDS(\"out/19_45401409-46401409/sim/hap/0.05/exclude/happler/susie.rds\")\n",
    "hap = FALSE\n",
    "if (nchar(\"out/19_45401409-46401409/sim/hap/19_45401409-46401409.hap\") > 0) {\n",
    "    hap = TRUE\n",
    "    happler_haplotype = file(\"out/19_45401409-46401409/sim/hap/0.05/happler/happler.hap\", \"rt\")\n",
    "    causal_haplotype = file(\"out/19_45401409-46401409/sim/hap/19_45401409-46401409.hap\", \"rt\")\n",
    "}"
   ]
  },
  {
   "cell_type": "code",
   "execution_count": null,
   "id": "4f8e29b8-1290-4ed4-a1e3-c5ca38e8a48e",
   "metadata": {},
   "outputs": [],
   "source": [
    "if (hap) {\n",
    "    write(\"Parsing hap files\", stderr())\n",
    "    while(TRUE) {\n",
    "        line = readLines(happler_haplotype, 1)\n",
    "        if (grepl(\"^H\", line)) break\n",
    "    }\n",
    "    # extract the start and end of the haplotype\n",
    "    happler_hap = as.integer(strsplit(line, \"\\t\")[[1]][c(3,4)])\n",
    "    names(happler_hap) = c(\"start\", \"end\")\n",
    "    while(TRUE) {\n",
    "        line = readLines(causal_haplotype, 1)\n",
    "        if (grepl(\"^H\", line)) break\n",
    "    }\n",
    "    # extract the start, end, and ID of the haplotype\n",
    "    causal_hap = as.integer(strsplit(line, \"\\t\")[[1]][c(3,4)])\n",
    "    names(causal_hap) = c(\"start\", \"end\")\n",
    "    haplotypes = t(data.frame(causal_hap, happler_hap))\n",
    "}"
   ]
  },
  {
   "cell_type": "code",
   "execution_count": null,
   "id": "d244bf11-c7d0-47b1-8101-a5bac075ce1f",
   "metadata": {},
   "outputs": [],
   "source": [
    "X = as.matrix(gt[,-1])\n",
    "storage.mode(X) = 'double'"
   ]
  },
  {
   "cell_type": "code",
   "execution_count": null,
   "id": "c846e553-f45f-4658-81f3-bcc9ab194c2f",
   "metadata": {},
   "outputs": [],
   "source": [
    "# parse the susie data:\n",
    "# 1) the truly causal variant, as defined in the simulation\n",
    "# 2) whether the causal variant was provided in the genotypes\n",
    "# 3) the list provided by susie as output\n",
    "causal_variant = susie_results$causal_var\n",
    "exclude_causal = susie_results$causal_excluded\n",
    "fitted = susie_results$fitted\n",
    "susie_pip = fitted$pip"
   ]
  },
  {
   "cell_type": "code",
   "execution_count": null,
   "id": "c34eb168-f250-4c0c-86d6-5f20092a24ef",
   "metadata": {},
   "outputs": [],
   "source": [
    "# first, we must create a vector with the causal status\n",
    "# this vector indicates which variant is truly causal\n",
    "b = rep(0, ncol(X))\n",
    "names(b) = colnames(X)\n",
    "if (exclude_causal) {\n",
    "    b = b[!(names(b) %in% c(causal_variant))]\n",
    "    if (hap) {\n",
    "        haplotypes = t(data.frame(haplotypes[c(2),]))\n",
    "    }\n",
    "} else {\n",
    "    b[causal_variant] = 1\n",
    "}"
   ]
  },
  {
   "cell_type": "code",
   "execution_count": null,
   "id": "9cab616e-a30f-42db-ac7e-fffd26ac5f48",
   "metadata": {},
   "outputs": [],
   "source": [
    "# parse the finemap data\n",
    "snp = finemap_results[[1]]$snp\n",
    "finemap_pip = snp[order(as.numeric(snp$snp)),]$snp_prob"
   ]
  },
  {
   "cell_type": "code",
   "execution_count": null,
   "id": "2a85b837-1648-46d1-b7e2-fbd923487d2b",
   "metadata": {},
   "outputs": [],
   "source": [
    "# define a function that generates the PIP plot data\n",
    "pip_plot_data = function(pips, X, b, susie_cs=NULL) {\n",
    "    # note that each of pips, X, and b must be ordered by variant POS\n",
    "    # first, initialize the values we need\n",
    "    b_colors = c(`0`='black', `1`='red')\n",
    "    causal_var = names(b[b == 1])\n",
    "    if (length(causal_var) == 0) {\n",
    "        causal_var = X[,causal_variant]\n",
    "        X = X[,!(colnames(X) %in% c(causal_variant))]\n",
    "    } else {\n",
    "        causal_var = X[,causal_var[1]]\n",
    "    }\n",
    "    data = data.frame(\n",
    "        pip = pips,\n",
    "        b = as.character(b),\n",
    "        pos = as.integer(sub(\"\\\\.(0|1|2)\", \"\", sub(\"X(\\\\S+)\", \"\\\\1\", names(b)))),\n",
    "        ld_causal = as.vector(cor(causal_var, X))^2\n",
    "    )\n",
    "    if (!is.null(susie_cs)) {\n",
    "        data$cs = as.integer((names(b) %in% susie_cs))*2\n",
    "    } else {\n",
    "        data$cs = 0\n",
    "    }\n",
    "    return(data)\n",
    "}"
   ]
  },
  {
   "cell_type": "code",
   "execution_count": null,
   "id": "f268330f-ac93-4ddc-b3e9-afef6497efa5",
   "metadata": {},
   "outputs": [],
   "source": [
    "# define a function for PIP plotting\n",
    "pip_plot = function(pips, X, b, susie_cs=NULL) {\n",
    "    # create a ggplot of the PIPs\n",
    "    # but first, get the data we need for the plot\n",
    "    data = pip_plot_data(pips, X, b, susie_cs)\n",
    "    # extract the causal variants to another data frame\n",
    "    data_causal = data[data$b == '1',]\n",
    "    # make the plot\n",
    "    ggplot(data, aes(x=pos, y=pip)) +\n",
    "    geom_point(aes(fill=ld_causal, stroke=cs, color=factor(cs)), size=7, shape=21) +\n",
    "    scale_fill_gradient(name='LD with Causal Variant', low='#FBBA72', high='#691E06') +\n",
    "    scale_color_manual(name='Credible Sets', values=c('transparent', '#7C9299'), guide=\"none\") +\n",
    "    geom_point(data=data_causal, aes(stroke=cs, color=factor(cs)), fill='red', size=7, shape=21) +\n",
    "    xlab('Chromosomal Position') +\n",
    "    ylab('Posterior Inclusion Probability (PIP)') + \n",
    "    ylim(0,1) +\n",
    "    theme_grey(base_size=16)\n",
    "}"
   ]
  },
  {
   "cell_type": "code",
   "execution_count": null,
   "id": "6ec06c54-c0bb-4d40-8dc5-315e612d8b0a",
   "metadata": {},
   "outputs": [],
   "source": [
    "pip_plot(susie_pip, X, b, susie_cs=names(susie_pip[fitted$sets$cs[['L1']]]))"
   ]
  },
  {
   "cell_type": "code",
   "execution_count": null,
   "id": "68542c93-bd64-400a-87b0-dcda6fb1045f",
   "metadata": {},
   "outputs": [],
   "source": [
    "# define a function for PIP plotting with haplotypes as lines\n",
    "pip_plot_haps = function(pips, X, b, haplotypes, susie_cs=NULL) {\n",
    "    # create a ggplot of the PIPs\n",
    "    # but first, get the data we need for the plot\n",
    "    data = pip_plot_data(pips, X, b, susie_cs)\n",
    "    # extract the haplotypes to another data frame\n",
    "    data_hap = cbind(data[grepl(\".2\", rownames(data), fixed=T),], haplotypes)\n",
    "    data_hap$color = c(\"black\", \"red\")[as.integer(data_hap$b)+1]\n",
    "    # remove the haps from the data\n",
    "    data = data[!(row.names(data) %in% rownames(data_hap)),]\n",
    "    # make the plot\n",
    "    ggplot(data, aes(x=pos, y=pip)) +\n",
    "    geom_point(aes(fill=ld_causal, stroke=cs, color=factor(cs)), size=7, shape=21) +\n",
    "    scale_fill_gradient(name='LD with Causal Variant', low='#FBBA72', high='#691E06') +\n",
    "    scale_color_manual(name='Credible Sets', values=c('transparent', '#7C9299'), guide=\"none\") +\n",
    "    geom_segment(data=data_hap, aes(x = start, xend = end, y = pip, yend = pip, color=factor(b)), color=data_hap$color, size=8) +\n",
    "    xlab('Chromosomal Position') +\n",
    "    ylab('Posterior Inclusion Probability (PIP)') +\n",
    "    ylim(0,1) +\n",
    "    theme_grey(base_size=16)\n",
    "}"
   ]
  },
  {
   "cell_type": "code",
   "execution_count": null,
   "id": "bd4ac014-21b6-44ba-8668-34aaa3ebf362",
   "metadata": {},
   "outputs": [],
   "source": [
    "pip_plot_haps(susie_pip, X, b, haplotypes, susie_cs=names(susie_pip[fitted$sets$cs[['L1']]]))"
   ]
  }
 ],
 "metadata": {
  "kernelspec": {
   "display_name": "R [conda env:c7e9db769f238261e890c9b26f32d22e_]",
   "language": "R",
   "name": "conda-env-c7e9db769f238261e890c9b26f32d22e_-r"
  },
  "language_info": {
   "codemirror_mode": "r",
   "file_extension": ".r",
   "mimetype": "text/x-r-source",
   "name": "R",
   "pygments_lexer": "r",
   "version": "4.0.5"
  }
 },
 "nbformat": 4,
 "nbformat_minor": 5
}
